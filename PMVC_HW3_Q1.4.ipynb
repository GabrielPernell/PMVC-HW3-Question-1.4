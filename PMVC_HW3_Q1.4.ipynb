{
 "cells": [
  {
   "cell_type": "code",
   "execution_count": 8,
   "metadata": {},
   "outputs": [],
   "source": [
    "import numpy as np"
   ]
  },
  {
   "cell_type": "code",
   "execution_count": 10,
   "metadata": {},
   "outputs": [],
   "source": [
    "def transition_matrix_calculator(data):\n",
    "    data = data.flatten()\n",
    "    unique_elements = np.unique(data)\n",
    "    num_elements = len(unique_elements)\n",
    "    state_index = {}\n",
    "\n",
    "    for i, state in enumerate(unique_elements):\n",
    "        state_index[state] = i\n",
    "\n",
    "    transitions = np.zeros((num_elements, num_elements), dtype=int)\n",
    "\n",
    "    for i in range(len(data) - 1):\n",
    "        curr_state = data[i]\n",
    "        next_state = data[i + 1]\n",
    "        transitions[state_index[curr_state], state_index[next_state]] += 1\n",
    "\n",
    "    transition_matrix = transitions / transitions.sum(axis=1, keepdims=True)\n",
    "\n",
    "\n",
    "    return transition_matrix"
   ]
  },
  {
   "cell_type": "code",
   "execution_count": 11,
   "metadata": {},
   "outputs": [
    {
     "name": "stdout",
     "output_type": "stream",
     "text": [
      "[[0.91111111 0.08888889]\n",
      " [0.42105263 0.57894737]]\n"
     ]
    }
   ],
   "source": [
    "arr = np.array([[0, 0, 0, 0, 0, 1, 0, 0, 0, 0, 0, 0, 0, 0, 0, 0, 0, 0, 0, 1, 1, 0],\n",
    "               [0, 0, 0, 0, 1, 1, 0, 0, 0, 0, 1, 1, 1, 1, 1, 1, 1, 0, 0, 0, 0, 0],\n",
    "               [0, 1, 1, 0, 0, 0, 0, 0, 1, 1, 0, 0, 0, 0, 0, 0, 0, 0, 0, 0, 0, 0],\n",
    "               [0, 0, 0, 0, 0, 0, 0, 0, 0, 1, 0, 0, 0, 0, 0, 0, 0, 0, 0, 0, 0, 1],\n",
    "               [1, 0, 0, 0, 0, 0, 0, 0, 0, 0, 0, 0, 0, 0, 0, 0, 0, 0, 0, 0, 0, 0]])\n",
    "\n",
    "output = transition_matrix_calculator(arr)\n",
    "print(output)"
   ]
  }
 ],
 "metadata": {
  "kernelspec": {
   "display_name": "cv2024",
   "language": "python",
   "name": "python3"
  },
  "language_info": {
   "codemirror_mode": {
    "name": "ipython",
    "version": 3
   },
   "file_extension": ".py",
   "mimetype": "text/x-python",
   "name": "python",
   "nbconvert_exporter": "python",
   "pygments_lexer": "ipython3",
   "version": "3.8.19"
  }
 },
 "nbformat": 4,
 "nbformat_minor": 2
}
